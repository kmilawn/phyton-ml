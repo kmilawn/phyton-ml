{
  "nbformat": 4,
  "nbformat_minor": 0,
  "metadata": {
    "colab": {
      "provenance": [],
      "include_colab_link": true
    },
    "kernelspec": {
      "name": "python3",
      "display_name": "Python 3"
    },
    "language_info": {
      "name": "python"
    }
  },
  "cells": [
    {
      "cell_type": "markdown",
      "metadata": {
        "id": "view-in-github",
        "colab_type": "text"
      },
      "source": [
        "<a href=\"https://colab.research.google.com/github/kmilawn/phyton-ml/blob/main/Prediksi_Gangguan_Tidur_Berdasarkan_Data_Kesehatan_dan_Gaya_Hidup_Menggunakan_Model_Random_Forest.ipynb\" target=\"_parent\"><img src=\"https://colab.research.google.com/assets/colab-badge.svg\" alt=\"Open In Colab\"/></a>"
      ]
    },
    {
      "cell_type": "markdown",
      "source": [
        "# Prediksi Gangguan Tidur Berdasarkan Data Kesehatan dan Gaya Hidup Menggunakan Model Random Forest"
      ],
      "metadata": {
        "id": "vK8agUxM-rPq"
      }
    },
    {
      "cell_type": "markdown",
      "source": [
        "**Nama**        : Najwah Kamila\n",
        "\n",
        "**NIM**         : A11.2023.15209\n",
        "\n",
        "**Mata Kuliah** : Machine Learning\n",
        "\n",
        "**Kelp**        : A11.4402"
      ],
      "metadata": {
        "id": "gnf3SoMn-vI-"
      }
    },
    {
      "cell_type": "markdown",
      "source": [
        "## 1. Pengantar"
      ],
      "metadata": {
        "id": "88PAX_Uc8grj"
      }
    },
    {
      "cell_type": "code",
      "execution_count": null,
      "metadata": {
        "id": "SbPJufea8dmj"
      },
      "outputs": [],
      "source": [
        "import pandas as pd\n",
        "import numpy as np\n",
        "import matplotlib.pyplot as plt\n",
        "import seaborn as sns\n",
        "import ipywidgets as widgets\n",
        "from IPython.display import display, clear_output\n",
        "from sklearn.preprocessing import LabelEncoder, StandardScaler\n",
        "from sklearn.model_selection import train_test_split\n",
        "from sklearn.ensemble import RandomForestClassifier\n",
        "from sklearn.metrics import classification_report, confusion_matrix"
      ]
    },
    {
      "cell_type": "markdown",
      "source": [
        "### 1.1. Ringkasan dan Permasalahan"
      ],
      "metadata": {
        "id": "3_CAW4Iq-6qE"
      }
    },
    {
      "cell_type": "markdown",
      "source": [
        "Gangguan tidur seperti insomnia dan sleep apnea berdampak signifikan pada kesehatan dan produktivitas seseorang. Deteksi dini sangat penting untuk mencegah komplikasi lebih lanjut. Permasalahan utama adalah bagaimana memanfaatkan data kesehatan dan gaya hidup untuk memprediksi adanya gangguan tidur."
      ],
      "metadata": {
        "id": "T_VvSaFd--w5"
      }
    },
    {
      "cell_type": "markdown",
      "source": [
        "### 1.2. Tujuan"
      ],
      "metadata": {
        "id": "sGGQp89t-_wb"
      }
    },
    {
      "cell_type": "markdown",
      "source": [
        "Membangun model Machine Learning yang mampu mengklasifikasikan jenis gangguan tidur (None, Insomnia, Sleep Apnea) berdasarkan indikator gaya hidup dan kesehatan."
      ],
      "metadata": {
        "id": "6ZeZKk1B_BBS"
      }
    },
    {
      "cell_type": "markdown",
      "source": [
        "### 1.3. Alur Penyelesaian"
      ],
      "metadata": {
        "id": "oaJGghGy_CVq"
      }
    },
    {
      "cell_type": "markdown",
      "source": [
        "1. Import dan Persiapan Data\n",
        "\n",
        "  - Membaca dataset dari file\n",
        "  - Menampilkan struktur dan informasi awal dataset\n",
        "\n",
        "2. Exploratory Data Analysis (EDA)\n",
        "\n",
        "  - Menjelajahi distribusi data\n",
        "  - Memahami relasi antar fitur\n",
        "  - Visualisasi korelasi dan outlier\n",
        "\n",
        "3. Preprocessing\n",
        "\n",
        "  - Encode kolom kategorikal (Gender, Occupation, BMI, Sleep Disorder)\n",
        "  - Pisahkan fitur dan target\n",
        "  - Normalisasi fitur numerik dengan StandardScaler\n",
        "  - Pembagian Data Latih dan Uji\n",
        "\n",
        "4. Modeling\n",
        "\n",
        "  - Melatih model Random Forest Classifier\n",
        "  - Menggunakan data training untuk pelatihan\n",
        "  - Prediksi pada data testing\n",
        "\n",
        "5. Evaluasi Model\n",
        "\n",
        "  - Menggunakan classification report dan confusion matrix\n",
        "  - Menampilkan feature importance\n",
        "\n",
        "6. Diskusi dan Kesimpulan\n",
        "\n",
        "  - Interpretasi performa model\n",
        "  - Insight fitur penting\n",
        "  - Rekomendasi pemanfaatan model\n",
        "\n",
        "7. **Implementasi Interaktif**\n",
        "\n",
        "  - Buat antarmuka prediksi menggunakan `ipywidgets`\n",
        "  - Terima input pengguna dan prediksi gangguan tidur secara real-time\n",
        "\n"
      ],
      "metadata": {
        "id": "WadCiwsZBJfE"
      }
    },
    {
      "cell_type": "markdown",
      "source": [
        "### 1.4. Penjelasan Dataset"
      ],
      "metadata": {
        "id": "qn2kT5-B_Eog"
      }
    },
    {
      "cell_type": "markdown",
      "source": [
        "| No | Kolom                     | Tipe Data | Deskripsi                                                        |\n",
        "| -- | ------------------------- | --------- | ---------------------------------------------------------------- |\n",
        "| 1  | `Person ID`               | int64     | ID unik untuk setiap individu                                    |\n",
        "| 2  | `Gender`                  | object    | Jenis kelamin individu (Male / Female)                           |\n",
        "| 3  | `Age`                     | int64     | Usia individu dalam tahun                                        |\n",
        "| 4  | `Occupation`              | object    | Pekerjaan utama individu                                         |\n",
        "| 5  | `Sleep Duration`          | float64   | Lama tidur individu per hari dalam jam                           |\n",
        "| 6  | `Quality of Sleep`        | int64     | Skor kualitas tidur (skala 1-10, subjektif)                      |\n",
        "| 7  | `Physical Activity Level` | int64     | Durasi aktivitas fisik harian dalam menit                        |\n",
        "| 8  | `Stress Level`            | int64     | Skor tingkat stres (skala 1-10, subjektif)                       |\n",
        "| 9  | `BMI Category`            | object    | Kategori BMI (Underweight, Normal, Overweight, Obese)            |\n",
        "| 10 | `Blood Pressure`          | object    | Tekanan darah dalam format \"Systolic/Diastolic\" (contoh: 120/80) |\n",
        "| 11 | `Heart Rate`              | int64     | Detak jantung saat istirahat (dalam bpm)                         |\n",
        "| 12 | `Daily Steps`             | int64     | Jumlah langkah per hari                                          |\n",
        "| 13 | `Sleep Disorder`          | object    | Jenis gangguan tidur (None, Insomnia, Sleep Apnea)               |\n",
        "\n",
        "Link: [Kaggle Sleep Health and Lifestyle Dataset](https://www.kaggle.com/datasets/uom190346a/sleep-health-and-lifestyle-dataset/data)"
      ],
      "metadata": {
        "id": "hZ7f3XtV_bXc"
      }
    },
    {
      "cell_type": "code",
      "source": [
        "df = pd.read_csv('Sleep_health_and_lifestyle_dataset.csv')\n",
        "df.head()"
      ],
      "metadata": {
        "id": "ZtU8cwCK8lAa"
      },
      "execution_count": null,
      "outputs": []
    },
    {
      "cell_type": "markdown",
      "source": [
        "## 2. Exploratory Data Analysis"
      ],
      "metadata": {
        "id": "yunij2Vk8r5E"
      }
    },
    {
      "cell_type": "markdown",
      "source": [
        "### 2.1. Struktur Data"
      ],
      "metadata": {
        "id": "BeJ7j-O58t-D"
      }
    },
    {
      "cell_type": "code",
      "source": [
        "print(df.info())"
      ],
      "metadata": {
        "id": "_UDJiB6r8vy4"
      },
      "execution_count": null,
      "outputs": []
    },
    {
      "cell_type": "markdown",
      "source": [
        "### 2.2. Mengecek Missing Values"
      ],
      "metadata": {
        "id": "lav7CKsT8xUZ"
      }
    },
    {
      "cell_type": "code",
      "source": [
        "print(\"Missing values per kolom:\")\n",
        "print(df.isnull().sum())"
      ],
      "metadata": {
        "id": "Y1N-ULhh8zzi"
      },
      "execution_count": null,
      "outputs": []
    },
    {
      "cell_type": "markdown",
      "source": [
        "### 2.3. Distribusi Variabel Target"
      ],
      "metadata": {
        "id": "eirn3k1A84Zb"
      }
    },
    {
      "cell_type": "code",
      "source": [
        "plt.figure(figsize=(6,4))\n",
        "sns.countplot(x='Sleep Disorder', data=df)\n",
        "plt.title('Distribusi Sleep Disorder')\n",
        "plt.ylabel('Jumlah')\n",
        "plt.show()"
      ],
      "metadata": {
        "id": "L1jW8c-387vF"
      },
      "execution_count": null,
      "outputs": []
    },
    {
      "cell_type": "markdown",
      "source": [
        "### 2.4. Hubungan Gender dengan Sleep Disorder"
      ],
      "metadata": {
        "id": "kmSSe0Wb8-QA"
      }
    },
    {
      "cell_type": "code",
      "source": [
        "plt.figure(figsize=(6,4))\n",
        "sns.countplot(x='Gender', hue='Sleep Disorder', data=df)\n",
        "plt.title('Distribusi Sleep Disorder berdasarkan Gender')\n",
        "plt.show()"
      ],
      "metadata": {
        "id": "OUDHeld49CzY"
      },
      "execution_count": null,
      "outputs": []
    },
    {
      "cell_type": "markdown",
      "source": [
        "### 2.5. Korelasi Fitur Numerik"
      ],
      "metadata": {
        "id": "D8n_SiLX9GDA"
      }
    },
    {
      "cell_type": "code",
      "source": [
        "numerik = df.select_dtypes(include=['int64', 'float64']).drop(columns=['Person ID'])\n",
        "\n",
        "plt.figure(figsize=(10,6))\n",
        "sns.heatmap(numerik.corr(), annot=True, cmap='coolwarm', fmt='.2f')\n",
        "plt.title('Heatmap Korelasi Fitur Numerik')\n",
        "plt.show()"
      ],
      "metadata": {
        "id": "Uzj84vI99JpD"
      },
      "execution_count": null,
      "outputs": []
    },
    {
      "cell_type": "markdown",
      "source": [
        "## 3. Preprocessing"
      ],
      "metadata": {
        "id": "6LQd1VLU9R1Q"
      }
    },
    {
      "cell_type": "code",
      "source": [
        "data = df.copy()"
      ],
      "metadata": {
        "id": "3WLBC9MH9TZh"
      },
      "execution_count": null,
      "outputs": []
    },
    {
      "cell_type": "markdown",
      "source": [
        "### 3.1. Memisahkan Data Tekanan Darah"
      ],
      "metadata": {
        "id": "Uk5AM9zm9Xzj"
      }
    },
    {
      "cell_type": "code",
      "source": [
        "data[['Systolic', 'Diastolic']] = data['Blood Pressure'].str.split('/', expand=True).astype(int)\n",
        "data.drop(columns='Blood Pressure', inplace=True)"
      ],
      "metadata": {
        "id": "4KOC_E1i9cQv"
      },
      "execution_count": null,
      "outputs": []
    },
    {
      "cell_type": "markdown",
      "source": [
        "### 3.2. Label Encoding"
      ],
      "metadata": {
        "id": "rMFgDkZh9eB9"
      }
    },
    {
      "cell_type": "code",
      "source": [
        "# Inisialisasi label encoding\n",
        "label_encoder = LabelEncoder()\n",
        "\n",
        "# Menerapkan label encoding\n",
        "data['Gender'] = label_encoder.fit_transform(data['Gender'])                  # Male = 1, Female = 0\n",
        "data['Occupation'] = label_encoder.fit_transform(data['Occupation'])          # Jadi angka integer\n",
        "data['BMI Category'] = label_encoder.fit_transform(data['BMI Category'])      # Misal: Underweight = 2, Normal = 1, Overweight = 0\n",
        "data['Sleep Disorder'] = label_encoder.fit_transform(data['Sleep Disorder'])  # Target: None = 0, Insomnia = 1, Sleep Apnea = 2"
      ],
      "metadata": {
        "id": "ImEhg6XP9ffL"
      },
      "execution_count": null,
      "outputs": []
    },
    {
      "cell_type": "markdown",
      "source": [
        "### 3.3. Memisahkan Fitur dan Target"
      ],
      "metadata": {
        "id": "fd4E-RLa9kGl"
      }
    },
    {
      "cell_type": "code",
      "source": [
        "X = data.drop(columns=['Person ID', 'Sleep Disorder'])  # Fitur\n",
        "y = data['Sleep Disorder']                              # Target"
      ],
      "metadata": {
        "id": "qnHmfLyC9mO_"
      },
      "execution_count": null,
      "outputs": []
    },
    {
      "cell_type": "markdown",
      "source": [
        "### 3.4. Normalisasi Fitur Numerik"
      ],
      "metadata": {
        "id": "fEytGICu9oVh"
      }
    },
    {
      "cell_type": "code",
      "source": [
        "scaler = StandardScaler()\n",
        "X_scaled = scaler.fit_transform(X)"
      ],
      "metadata": {
        "id": "HO61ESq29qel"
      },
      "execution_count": null,
      "outputs": []
    },
    {
      "cell_type": "markdown",
      "source": [
        "### 3.5. Membagi Data Latih dan Uji"
      ],
      "metadata": {
        "id": "Vup7YzqR9tVU"
      }
    },
    {
      "cell_type": "code",
      "source": [
        "X_train, X_test, y_train, y_test = train_test_split(\n",
        "    X_scaled, y, test_size=0.2, random_state=42, stratify=y\n",
        ")\n",
        "\n",
        "print(f\"X_train shape: {X_train.shape}\")\n",
        "print(f\"y_train distribution: \\n{pd.Series(y_train).value_counts()}\")"
      ],
      "metadata": {
        "id": "nReG0niO9vah"
      },
      "execution_count": null,
      "outputs": []
    },
    {
      "cell_type": "markdown",
      "source": [
        "## 4. Pemodelan"
      ],
      "metadata": {
        "id": "xohrJKog93M-"
      }
    },
    {
      "cell_type": "markdown",
      "source": [
        "### 4.1 Melatih dan Prediksi Model"
      ],
      "metadata": {
        "id": "gqZ8VzCK-Cql"
      }
    },
    {
      "cell_type": "code",
      "source": [
        "# Membangun model\n",
        "model = RandomForestClassifier(\n",
        "    n_estimators=100,\n",
        "    max_depth=None,\n",
        "    random_state=42,\n",
        "    class_weight='balanced'  # Mengatasi data tidak seimbang\n",
        ")\n",
        "\n",
        "# Melatih model\n",
        "model.fit(X_train, y_train)"
      ],
      "metadata": {
        "id": "XUty9bBA94qQ"
      },
      "execution_count": null,
      "outputs": []
    },
    {
      "cell_type": "code",
      "source": [
        "# Prediksi pada data uji\n",
        "y_pred = model.predict(X_test)"
      ],
      "metadata": {
        "id": "gY5tryMQ-BR8"
      },
      "execution_count": null,
      "outputs": []
    },
    {
      "cell_type": "markdown",
      "source": [
        "### 4.2. Evaluasi Performa Model"
      ],
      "metadata": {
        "id": "ucqMf9au-FvU"
      }
    },
    {
      "cell_type": "code",
      "source": [
        "print(\"Classification Report:\")\n",
        "print(classification_report(y_test, y_pred))"
      ],
      "metadata": {
        "id": "gnBp-NOW-Hyq"
      },
      "execution_count": null,
      "outputs": []
    },
    {
      "cell_type": "code",
      "source": [
        "plt.figure(figsize=(6,4))\n",
        "sns.heatmap(confusion_matrix(y_test, y_pred), annot=True, fmt='d', cmap='Blues')\n",
        "plt.title(\"Confusion Matrix\")\n",
        "plt.xlabel(\"Predicted\")\n",
        "plt.ylabel(\"Actual\")\n",
        "plt.show()"
      ],
      "metadata": {
        "id": "OMXnm4Wr-Khr"
      },
      "execution_count": null,
      "outputs": []
    },
    {
      "cell_type": "markdown",
      "source": [
        "### 4.3. Fitur Penting pada Model"
      ],
      "metadata": {
        "id": "0ECCfIxZ-MX4"
      }
    },
    {
      "cell_type": "code",
      "source": [
        "importances = model.feature_importances_\n",
        "feature_names = X.columns\n",
        "\n",
        "feature_df = pd.DataFrame({'Feature': feature_names, 'Importance': importances})\n",
        "feature_df.sort_values(by='Importance', ascending=False, inplace=True)\n",
        "\n",
        "plt.figure(figsize=(10,5))\n",
        "sns.barplot(x='Importance', y='Feature', data=feature_df)\n",
        "plt.title(\"Feature Importance - Random Forest\")\n",
        "plt.show()"
      ],
      "metadata": {
        "id": "kZX4BtTb-MDb"
      },
      "execution_count": null,
      "outputs": []
    },
    {
      "cell_type": "markdown",
      "source": [
        "## 5. Hasil dan Kesimpulan"
      ],
      "metadata": {
        "id": "U-WrtUy3_oCt"
      }
    },
    {
      "cell_type": "markdown",
      "source": [
        "### 5.1. Diskusi Hasil"
      ],
      "metadata": {
        "id": "mWNPUyJW_r_7"
      }
    },
    {
      "cell_type": "markdown",
      "source": [
        "Berdasarkan hasil evaluasi model:\n",
        "\n",
        "- **Akurasi model mencapai 93%**, menunjukkan performa yang sangat baik dalam membedakan tiga kelas gangguan tidur: None, Insomnia, dan Sleep Apnea.\n",
        "- **Confusion matrix** menunjukkan bahwa sebagian besar prediksi model sesuai dengan nilai aktual. Kelas **Sleep Apnea** diprediksi dengan sangat akurat, sedangkan **Insomnia** memiliki sedikit kesalahan klasifikasi ke kelas lain.\n",
        "- **Classification report** memperlihatkan bahwa precision dan recall cukup merata, dengan nilai f1-score berkisar antara 0.88 hingga 0.97.\n",
        "- **Feature importance** mengungkap bahwa fitur yang paling berpengaruh terhadap prediksi adalah:\n",
        "\n",
        "  - **Tekanan darah (Systolic dan Diastolic)**\n",
        "  - **BMI Category**\n",
        "  - **Physical Activity Level**\n",
        "  - **Sleep Duration**\n",
        "  - Fitur seperti **Stress Level** dan **Quality of Sleep**, meskipun penting secara klinis, memiliki kontribusi yang lebih rendah menurut model.\n"
      ],
      "metadata": {
        "id": "dGUpE29x_w4T"
      }
    },
    {
      "cell_type": "markdown",
      "source": [
        "### 5.2. Kesimpulan"
      ],
      "metadata": {
        "id": "ORGxkzjJ_6M4"
      }
    },
    {
      "cell_type": "markdown",
      "source": [
        "- Model **Random Forest** sangat efektif dalam memprediksi jenis gangguan tidur berdasarkan data gaya hidup dan kesehatan.\n",
        "- **Fitur tekanan darah dan BMI** dapat dijadikan indikator awal dalam mendeteksi potensi gangguan tidur.\n",
        "- Proyek ini menunjukkan bahwa **data sederhana yang dikumpulkan secara rutin** dapat dimanfaatkan untuk skrining awal sebelum seseorang menjalani pemeriksaan klinis lebih lanjut.\n",
        "- **Model ini cocok diterapkan dalam sistem kesehatan digital atau aplikasi wellness** sebagai alat bantu diagnostik non-invasif."
      ],
      "metadata": {
        "id": "Ea69BPkH_790"
      }
    },
    {
      "cell_type": "code",
      "source": [
        "# Widget input pengguna\n",
        "gender = widgets.Dropdown(options=['Male', 'Female'], description='Gender:')\n",
        "age = widgets.IntSlider(min=18, max=100, value=30, description='Age:')\n",
        "occupation = widgets.Text(value='Software Engineer', description='Occupation:')\n",
        "sleep_duration = widgets.FloatSlider(min=0, max=12, step=0.1, value=7, description='Sleep (hrs):')\n",
        "quality_sleep = widgets.IntSlider(min=1, max=10, value=6, description='Quality:')\n",
        "activity = widgets.IntSlider(min=0, max=300, value=60, description='Activity (min):')\n",
        "stress = widgets.IntSlider(min=1, max=10, value=5, description='Stress:')\n",
        "bmi_category = widgets.Dropdown(options=['Underweight', 'Normal', 'Overweight', 'Obese'], description='BMI:')\n",
        "systolic = widgets.IntSlider(min=80, max=200, value=120, description='Systolic:')\n",
        "diastolic = widgets.IntSlider(min=50, max=150, value=80, description='Diastolic:')\n",
        "heart_rate = widgets.IntSlider(min=40, max=120, value=70, description='Heart Rate:')\n",
        "daily_steps = widgets.IntSlider(min=0, max=30000, value=5000, step=500, description='Steps:')\n",
        "\n",
        "button = widgets.Button(description='Predict Sleep Disorder')\n",
        "output = widgets.Output()\n",
        "\n",
        "# Label encoders yang sama seperti saat training\n",
        "def encode_inputs():\n",
        "    gender_map = {'Male': 1, 'Female': 0}\n",
        "    bmi_map = {'Underweight': 2, 'Normal': 1, 'Overweight': 0, 'Obese': 3}\n",
        "    return [\n",
        "        gender_map[gender.value],\n",
        "        age.value,\n",
        "        0,  # occupation encoded as 0 (dummy) - should match train encoding\n",
        "        sleep_duration.value,\n",
        "        quality_sleep.value,\n",
        "        activity.value,\n",
        "        stress.value,\n",
        "        bmi_map[bmi_category.value],\n",
        "        systolic.value,\n",
        "        diastolic.value,\n",
        "        heart_rate.value,\n",
        "        daily_steps.value\n",
        "    ]\n",
        "\n",
        "# Fungsi prediksi\n",
        "def on_button_clicked(b):\n",
        "    with output:\n",
        "        clear_output()\n",
        "        user_input_list = encode_inputs()\n",
        "\n",
        "        # Buat DataFrame dengan nama kolom yang sama seperti saat training\n",
        "        input_df = pd.DataFrame([user_input_list], columns=X.columns)\n",
        "\n",
        "        # Scaling\n",
        "        input_scaled = scaler.transform(input_df)\n",
        "\n",
        "        # Prediksi\n",
        "        prediction = model.predict(input_scaled)[0]\n",
        "        label_map = {0: 'None', 1: 'Insomnia', 2: 'Sleep Apnea'}\n",
        "        print(f\"Prediksi Gangguan Tidur: {label_map[prediction]}\")\n",
        "\n",
        "# Hubungkan tombol dengan fungsi\n",
        "button.on_click(on_button_clicked)\n",
        "\n",
        "# Tampilkan widget\n",
        "display(widgets.VBox([\n",
        "    gender, age, occupation, sleep_duration, quality_sleep,\n",
        "    activity, stress, bmi_category, systolic, diastolic,\n",
        "    heart_rate, daily_steps, button, output\n",
        "]))"
      ],
      "metadata": {
        "id": "setqlPRa_vn_"
      },
      "execution_count": null,
      "outputs": []
    }
  ]
}