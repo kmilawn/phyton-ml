{
  "cells": [
    {
      "cell_type": "markdown",
      "metadata": {
        "id": "view-in-github",
        "colab_type": "text"
      },
      "source": [
        "<a href=\"https://colab.research.google.com/github/kmilawn/phyton-ml/blob/main/07_assessment.ipynb\" target=\"_parent\"><img src=\"https://colab.research.google.com/assets/colab-badge.svg\" alt=\"Open In Colab\"/></a>"
      ]
    },
    {
      "cell_type": "markdown",
      "metadata": {
        "id": "60TOjDuDW4ED"
      },
      "source": [
        "## The Dataset"
      ]
    },
    {
      "cell_type": "code",
      "execution_count": 2,
      "metadata": {
        "colab": {
          "base_uri": "https://localhost:8080/",
          "height": 211
        },
        "collapsed": true,
        "id": "GdbV0DgMW4EF",
        "outputId": "14b74729-0d1f-4818-b157-367031344d74"
      },
      "outputs": [
        {
          "output_type": "error",
          "ename": "NameError",
          "evalue": "name 'FIXME' is not defined",
          "traceback": [
            "\u001b[0;31m---------------------------------------------------------------------------\u001b[0m",
            "\u001b[0;31mNameError\u001b[0m                                 Traceback (most recent call last)",
            "\u001b[0;32m<ipython-input-2-571edbbeae96>\u001b[0m in \u001b[0;36m<cell line: 0>\u001b[0;34m()\u001b[0m\n\u001b[1;32m      2\u001b[0m \u001b[0;34m\u001b[0m\u001b[0m\n\u001b[1;32m      3\u001b[0m base_model = keras.applications.VGG16(\n\u001b[0;32m----> 4\u001b[0;31m     \u001b[0mweights\u001b[0m\u001b[0;34m=\u001b[0m\u001b[0mFIXME\u001b[0m\u001b[0;34m,\u001b[0m\u001b[0;34m\u001b[0m\u001b[0;34m\u001b[0m\u001b[0m\n\u001b[0m\u001b[1;32m      5\u001b[0m     \u001b[0minput_shape\u001b[0m\u001b[0;34m=\u001b[0m\u001b[0;34m(\u001b[0m\u001b[0;36m224\u001b[0m\u001b[0;34m,\u001b[0m \u001b[0;36m224\u001b[0m\u001b[0;34m,\u001b[0m \u001b[0;36m3\u001b[0m\u001b[0;34m)\u001b[0m\u001b[0;34m,\u001b[0m\u001b[0;34m\u001b[0m\u001b[0;34m\u001b[0m\u001b[0m\n\u001b[1;32m      6\u001b[0m     include_top=FIXME)\n",
            "\u001b[0;31mNameError\u001b[0m: name 'FIXME' is not defined"
          ]
        }
      ],
      "source": [
        "from tensorflow import keras\n",
        "\n",
        "base_model = keras.applications.VGG16(\n",
        "    weights=FIXME,\n",
        "    input_shape=(224, 224, 3),\n",
        "    include_top=FIXME)"
      ]
    },
    {
      "cell_type": "markdown",
      "metadata": {
        "id": "GV9P4ToXW4EG"
      },
      "source": [
        "## Freeze Base Model"
      ]
    },
    {
      "cell_type": "code",
      "execution_count": null,
      "metadata": {
        "id": "xYlykFyiW4EG"
      },
      "outputs": [],
      "source": [
        "# Freeze base model\n",
        "base_model.trainable = FIXME"
      ]
    },
    {
      "cell_type": "markdown",
      "metadata": {
        "id": "372-ee9TW4EH"
      },
      "source": [
        "## Add Layers to Model"
      ]
    },
    {
      "cell_type": "code",
      "execution_count": null,
      "metadata": {
        "id": "6MWMfZWcW4EH"
      },
      "outputs": [],
      "source": [
        "# Create inputs with correct shape\n",
        "inputs = FIXME\n",
        "\n",
        "x = base_model(inputs, training=False)\n",
        "\n",
        "# Add pooling layer or flatten layer\n",
        "x = FIXME\n",
        "\n",
        "# Add final dense layer\n",
        "outputs = keras.layers.Dense(FIXME, activation = 'softmax')(x)\n",
        "\n",
        "# Combine inputs and outputs to create model\n",
        "model = keras.Model(FIXME)"
      ]
    },
    {
      "cell_type": "code",
      "execution_count": null,
      "metadata": {
        "id": "rizIpPoDW4EH"
      },
      "outputs": [],
      "source": [
        "model.summary()"
      ]
    },
    {
      "cell_type": "markdown",
      "metadata": {
        "id": "5gaVZldjW4EH"
      },
      "source": [
        "## Compile Model"
      ]
    },
    {
      "cell_type": "code",
      "execution_count": null,
      "metadata": {
        "id": "0tLQbtTjW4EI"
      },
      "outputs": [],
      "source": [
        "model.compile(loss = FIXME , metrics = FIXME)"
      ]
    },
    {
      "cell_type": "markdown",
      "metadata": {
        "id": "vfMQOE8PW4EI"
      },
      "source": [
        "## Augment the Data"
      ]
    },
    {
      "cell_type": "code",
      "execution_count": null,
      "metadata": {
        "id": "VB_0PdMbW4EI"
      },
      "outputs": [],
      "source": [
        "from tensorflow.keras.preprocessing.image import ImageDataGenerator\n",
        "\n",
        "datagen = ImageDataGenerator(FIXME)"
      ]
    },
    {
      "cell_type": "markdown",
      "metadata": {
        "id": "6V8kjrd8W4EI"
      },
      "source": [
        "## Load Dataset"
      ]
    },
    {
      "cell_type": "code",
      "execution_count": null,
      "metadata": {
        "id": "CuzNX_1KW4EI"
      },
      "outputs": [],
      "source": [
        "# load and iterate training dataset\n",
        "train_it = datagen.flow_from_directory(FIXME,\n",
        "                                       target_size=FIXME,\n",
        "                                       color_mode='rgb',\n",
        "                                       class_mode=\"categorical\")\n",
        "# load and iterate validation dataset\n",
        "valid_it = datagen.flow_from_directory(FIXME,\n",
        "                                      target_size=FIXME,\n",
        "                                      color_mode='rgb',\n",
        "                                      class_mode=\"categorical\")"
      ]
    },
    {
      "cell_type": "markdown",
      "metadata": {
        "id": "a3S7iDD_W4EJ"
      },
      "source": [
        "## Train the Model"
      ]
    },
    {
      "cell_type": "code",
      "execution_count": null,
      "metadata": {
        "id": "DUAulDsRW4EJ"
      },
      "outputs": [],
      "source": [
        "model.fit(FIXME,\n",
        "          validation_data=FIXME,\n",
        "          steps_per_epoch=train_it.samples/train_it.batch_size,\n",
        "          validation_steps=valid_it.samples/valid_it.batch_size,\n",
        "          epochs=FIXME)"
      ]
    },
    {
      "cell_type": "markdown",
      "metadata": {
        "id": "qNudqD-SW4EJ"
      },
      "source": [
        "## Unfreeze Model for Fine Tuning"
      ]
    },
    {
      "cell_type": "code",
      "execution_count": null,
      "metadata": {
        "id": "G2jNHLn1W4EJ"
      },
      "outputs": [],
      "source": [
        "# Unfreeze the base model\n",
        "base_model.trainable = FIXME\n",
        "\n",
        "# Compile the model with a low learning rate\n",
        "model.compile(optimizer=keras.optimizers.RMSprop(learning_rate = FIXME),\n",
        "              loss = FIXME , metrics = FIXME)"
      ]
    },
    {
      "cell_type": "code",
      "execution_count": null,
      "metadata": {
        "id": "xEGdvIj3W4EJ"
      },
      "outputs": [],
      "source": [
        "model.fit(FIXME,\n",
        "          validation_data=FIXME,\n",
        "          steps_per_epoch=train_it.samples/train_it.batch_size,\n",
        "          validation_steps=valid_it.samples/valid_it.batch_size,\n",
        "          epochs=FIXME)"
      ]
    },
    {
      "cell_type": "markdown",
      "metadata": {
        "id": "lwUN2MNtW4EJ"
      },
      "source": [
        "## Evaluate the Model"
      ]
    },
    {
      "cell_type": "code",
      "execution_count": null,
      "metadata": {
        "id": "dIunHJjXW4EK"
      },
      "outputs": [],
      "source": [
        "model.evaluate(valid_it, steps=valid_it.samples/valid_it.batch_size)"
      ]
    },
    {
      "cell_type": "markdown",
      "metadata": {
        "id": "sDzseoo8W4EK"
      },
      "source": [
        "## Run the Assessment"
      ]
    },
    {
      "cell_type": "code",
      "execution_count": null,
      "metadata": {
        "id": "xu2izYs5W4EK"
      },
      "outputs": [],
      "source": [
        "from run_assessment import run_assessment"
      ]
    },
    {
      "cell_type": "code",
      "execution_count": null,
      "metadata": {
        "id": "Dtk15NBSW4EK"
      },
      "outputs": [],
      "source": [
        "run_assessment(model, valid_it)"
      ]
    }
  ],
  "metadata": {
    "kernelspec": {
      "display_name": "Python 3",
      "language": "python",
      "name": "python3"
    },
    "language_info": {
      "codemirror_mode": {
        "name": "ipython",
        "version": 3
      },
      "file_extension": ".py",
      "mimetype": "text/x-python",
      "name": "python",
      "nbconvert_exporter": "python",
      "pygments_lexer": "ipython3",
      "version": "3.6.9"
    },
    "colab": {
      "provenance": [],
      "include_colab_link": true
    }
  },
  "nbformat": 4,
  "nbformat_minor": 0
}