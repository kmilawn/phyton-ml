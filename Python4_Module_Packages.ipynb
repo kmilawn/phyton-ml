{
  "cells": [
    {
      "cell_type": "markdown",
      "metadata": {
        "id": "view-in-github",
        "colab_type": "text"
      },
      "source": [
        "<a href=\"https://colab.research.google.com/github/kmilawn/phyton-ml/blob/main/Python4_Module_Packages.ipynb\" target=\"_parent\"><img src=\"https://colab.research.google.com/assets/colab-badge.svg\" alt=\"Open In Colab\"/></a>"
      ]
    },
    {
      "cell_type": "markdown",
      "metadata": {
        "id": "3KMo05Y80frK"
      },
      "source": [
        "# Python Bacis 4\n",
        "Modules, Packages and PIP\n",
        "\n",
        "Referensi Tambahan:\n",
        "- https://docs.python.org/3.8/\n",
        "- https://docs.python.org/id/3.8/tutorial/\n",
        "\n",
        "\n",
        "## Materi\n",
        "- importing and using Python modules;\n",
        "- using some of the most useful Python standard library modules;\n",
        "- constructing and using Python packages;\n",
        "- PIP (Python Installation Package) and how to use it to install and uninstall ready-to-use packages from PyPI.\n",
        "\n",
        "## Modules"
      ]
    },
    {
      "cell_type": "markdown",
      "metadata": {
        "id": "DFgsDv-V0frR"
      },
      "source": [
        "Computer code has a tendency to grow.\n",
        "\n",
        "Growing code is in fact a growing problem.\n",
        "\n",
        "A larger code always means tougher maintenance. Searching for bugs is always easier where the code is smaller\n",
        "\n",
        "If you want such a software project to be completed successfully, you have to have the means allowing you to:\n",
        "- divide all the tasks among the developers;\n",
        "- join all the created parts into one working whole.\n",
        "\n",
        "For example, a certain project can be divided into two main parts:\n",
        "\n",
        "- the user interface (the part that communicates with the user using widgets and a graphical screen)\n",
        "- the logic (the part processing data and producing results)\n",
        "\n",
        "Each of these parts can be (most likely) divided into smaller ones, and so on. Such a process is often called __decomposition__."
      ]
    },
    {
      "cell_type": "markdown",
      "metadata": {
        "id": "AlheRJLX0frS"
      },
      "source": [
        "## How to make use of a module?\n"
      ]
    },
    {
      "cell_type": "markdown",
      "metadata": {
        "id": "BfNFE0nE0frT"
      },
      "source": [
        "![module.PNG](attachment:module.PNG)\n",
        "\n",
        "- pengguna (__user__) :  Menggunakan module yang sudah ada\n",
        "- penyedia (__supplier__) : Membuat module baru"
      ]
    },
    {
      "cell_type": "markdown",
      "metadata": {
        "id": "QxIjv8Li0frT"
      },
      "source": [
        "a module is identified by its __name__\n",
        "\n",
        "Each module consists of entities (like a book consists of chapters). These entities can be functions, variables, constants, classes, and objects.\n",
        "\n",
        "![module%20name.PNG](attachment:module%20name.PNG)\n",
        "\n"
      ]
    },
    {
      "cell_type": "markdown",
      "metadata": {
        "id": "pv4I7EMS0frT"
      },
      "source": [
        "## Importing a module"
      ]
    },
    {
      "cell_type": "markdown",
      "metadata": {
        "id": "eSgSLZv00frT"
      },
      "source": [
        "Importing a module is done by an instruction named `import`\n",
        "\n",
        "the clause contains:\n",
        "\n",
        "- the `import` keyword;\n",
        "- the `name` of the module which is subject to import.\n",
        "\n",
        "![import.PNG](attachment:import.PNG)"
      ]
    },
    {
      "cell_type": "code",
      "execution_count": null,
      "metadata": {
        "id": "QiHxA3b00frU"
      },
      "outputs": [],
      "source": [
        "import math"
      ]
    },
    {
      "cell_type": "code",
      "execution_count": null,
      "metadata": {
        "id": "oOTBcnRq0frW"
      },
      "outputs": [],
      "source": [
        "import math, sys"
      ]
    },
    {
      "cell_type": "markdown",
      "metadata": {
        "id": "GmzsEKxu0frW"
      },
      "source": [
        "## namespace"
      ]
    },
    {
      "cell_type": "markdown",
      "metadata": {
        "id": "Zg4Pe6vi0frX"
      },
      "source": [
        "A namespace is a space (understood in a non-physical context) in which some names exist and the names don't conflict with each other (i.e., there are not two different objects of the same name).\n",
        "\n",
        "![namespace.PNG](attachment:namespace.PNG)"
      ]
    },
    {
      "cell_type": "code",
      "execution_count": null,
      "metadata": {
        "id": "E-7zqfCo0frX"
      },
      "outputs": [],
      "source": [
        "import numpy\n",
        "import math\n",
        "import scipy\n",
        "\n",
        "print(math.pi)\n",
        "print(math.e)\n",
        "print(numpy.pi)\n",
        "print(scipy.pi)\n",
        "#note: pi inside the module won't be affected by pi that we declare in main program"
      ]
    },
    {
      "cell_type": "code",
      "execution_count": null,
      "metadata": {
        "id": "AoxrgVUK0frY"
      },
      "outputs": [],
      "source": [
        "from math import pi,e\n",
        "\n",
        "print(pi)\n",
        "print(e)\n",
        "\n",
        "# dir(math)"
      ]
    },
    {
      "cell_type": "markdown",
      "metadata": {
        "id": "S7LEAWTx0frY"
      },
      "source": [
        "The instruction consists of the following elements:\n",
        "\n",
        "- the `from` keyword;\n",
        "- the `name of the module` to be (selectively) imported;\n",
        "- the `import` keyword;\n",
        "- the `name` or `list of names` of the entity/entities which are being imported into the namespace."
      ]
    },
    {
      "cell_type": "code",
      "execution_count": null,
      "metadata": {
        "id": "6gabPN0Q0frY"
      },
      "outputs": [],
      "source": [
        "## override nilai sin dan pi\n",
        "from math import sin, pi\n",
        "\n",
        "print(sin(pi/2))\n",
        "\n",
        "print(\"=====\")\n",
        "\n",
        "pi = 3.14\n",
        "\n",
        "def sin(x):\n",
        "    if 2 * x == pi:\n",
        "        return 0.99999999\n",
        "    else:\n",
        "        return None\n",
        "\n",
        "print(sin(pi/2))"
      ]
    },
    {
      "cell_type": "markdown",
      "metadata": {
        "id": "tf997aui0frY"
      },
      "source": [
        "## Mengimport semua modul"
      ]
    },
    {
      "cell_type": "code",
      "execution_count": null,
      "metadata": {
        "id": "-R3Txn8Y0frY"
      },
      "outputs": [],
      "source": [
        "from math import *\n",
        "print(tan(0))"
      ]
    },
    {
      "cell_type": "markdown",
      "metadata": {
        "id": "bMQY__Nt0frZ"
      },
      "source": [
        "Nama dari entitas digantikan dengan asterisk tunggal `*`\n",
        "\n",
        "`*` merupakan instruksi untuk meng-import semua entitas yang ada"
      ]
    },
    {
      "cell_type": "markdown",
      "metadata": {
        "id": "lEAj9VSB0frZ"
      },
      "source": [
        "### Aliasing"
      ]
    },
    {
      "cell_type": "markdown",
      "metadata": {
        "id": "WRPT91bb0frZ"
      },
      "source": [
        "Untuk nama file yang akan di `import` kan dapat dilakukan proses `aliasing`\n",
        "\n",
        "`Aliasing` menyebabkan `modul` diidentifikasi dengan `nama yang berbeda` dari `aslinya`"
      ]
    },
    {
      "cell_type": "markdown",
      "metadata": {
        "id": "AA3daLfH0frZ"
      },
      "source": [
        "`import` module `as` alias\n",
        "\n",
        "`as` merupakan kata kunci untuk melakukan `aliasing`"
      ]
    },
    {
      "cell_type": "markdown",
      "metadata": {
        "id": "9vytetcT0frZ"
      },
      "source": [
        "Jika kita ingin merename `math`, dengan `m` dapat dilakukan dengan cara sebagai berikut."
      ]
    },
    {
      "cell_type": "code",
      "execution_count": null,
      "metadata": {
        "id": "bO8UXuuR0frZ"
      },
      "outputs": [],
      "source": [
        "import math as m\n",
        "\n",
        "print(m.pi)\n"
      ]
    },
    {
      "cell_type": "markdown",
      "metadata": {
        "id": "gIFsFA5E0frZ"
      },
      "source": [
        "__Note__ : after successful execution of an aliased import, the original module name becomes inaccessible and must not be used."
      ]
    },
    {
      "cell_type": "markdown",
      "metadata": {
        "id": "LkyRQsKL0fra"
      },
      "source": [
        "__from__ `module` __import__ `name` __as__ `alias`\n",
        "\n",
        "__from__ `module` __import__ `n` __as__ `a`, `m` __as__ `b`, `o` __as__ `c`"
      ]
    },
    {
      "cell_type": "code",
      "execution_count": null,
      "metadata": {
        "id": "qmmnp1xS0fra"
      },
      "outputs": [],
      "source": [
        "from math import pi as PI, sin as sine\n",
        "\n",
        "print(sine(PI/2))"
      ]
    },
    {
      "cell_type": "markdown",
      "metadata": {
        "id": "eLe8SrYG0fra"
      },
      "source": [
        "## Working with standard modules\n",
        "\n",
        "__dir__(`module`)\n",
        "\n",
        "The function returns an alphabetically sorted list containing all entities' names available in the module"
      ]
    },
    {
      "cell_type": "code",
      "execution_count": null,
      "metadata": {
        "id": "gg_pGmg00fra"
      },
      "outputs": [],
      "source": [
        "import math\n",
        "print(dir(math))"
      ]
    },
    {
      "cell_type": "code",
      "execution_count": null,
      "metadata": {
        "id": "ZF6Rpqdm0fra"
      },
      "outputs": [],
      "source": [
        "import math\n",
        "\n",
        "a = math.pow(2,3)\n",
        "print(a)\n",
        "\n",
        "for name in dir(math):\n",
        "    print(name, end=\"\\t\")"
      ]
    },
    {
      "cell_type": "markdown",
      "metadata": {
        "id": "GsjOnWU-0fra"
      },
      "source": [
        "###  `math` module"
      ]
    },
    {
      "cell_type": "markdown",
      "metadata": {
        "id": "XEdvezYJ0frb"
      },
      "source": [
        "Let's start with a quick preview of some of the functions provided by the math module.\n",
        "\n",
        "The first group of the math's functions are connected with trigonometry:\n",
        "\n",
        "- `sin(x)` → the sine of x;\n",
        "- `cos(x)` → the cosine of x;\n",
        "- `tan(x)` → the tangent of x.\n",
        "\n",
        "Here are also their inversed versions:\n",
        "\n",
        "- `asin(x)` → the arcsine of x;\n",
        "- `acos(x)` → the arccosine of x;\n",
        "- `atan(x)` → the arctangent of x.\n",
        "\n",
        "`x` is a radian\n",
        "\n",
        "These functions take one argument (mind the domains) and return a measure of an angle in radians."
      ]
    },
    {
      "cell_type": "markdown",
      "metadata": {
        "id": "k34bu2W50frb"
      },
      "source": [
        "To effectively operate on angle measurements, the math module provides you with the following entities:\n",
        "\n",
        "- `pi` → a constant with a value that is an approximation of π;\n",
        "- `radians(x)` → a function that converts x from degrees to radians;\n",
        "- `degrees(x)` → acting in the other direction (from radians to degrees)"
      ]
    },
    {
      "cell_type": "code",
      "execution_count": null,
      "metadata": {
        "id": "55Eus80O0frb"
      },
      "outputs": [],
      "source": [
        "from math import pi, radians, degrees, sin, cos, tan, asin\n",
        "\n",
        "ad = 90\n",
        "\n",
        "ar = radians(ad)\n",
        "print(ar)\n",
        "ad = degrees(ar)\n",
        "print(ad)\n",
        "\n",
        "print(ad == 90.)\n",
        "print(ar == pi / 2.)\n",
        "print(sin(ar) / cos(ar) == tan(ar))\n",
        "print(asin(sin(ar)) == ar)"
      ]
    },
    {
      "cell_type": "markdown",
      "metadata": {
        "id": "9V51A0IY0frb"
      },
      "source": [
        "Another group of the math's functions is formed by functions which are connected with exponentiation:\n",
        "\n",
        "- `e` → a constant with a value that is an approximation of Euler's number (e)\n",
        "- `exp(x)` → finding the value of ex;\n",
        "- `log(x)` → the natural logarithm of x\n",
        "- `log(x, b)` → the logarithm of x to base b\n",
        "- `log10(x)` → the decimal logarithm of x (more precise than log(x, 10))\n",
        "- `log2(x)` → the binary logarithm of x (more precise than log(x, 2))"
      ]
    },
    {
      "cell_type": "code",
      "execution_count": null,
      "metadata": {
        "id": "q8htw8hd0frb"
      },
      "outputs": [],
      "source": [
        "from math import e, exp, log\n",
        "\n",
        "print(pow(e, 1) == exp(log(e)))\n",
        "print(pow(2, 2) == exp(2 * log(2)))\n",
        "print(log(e, e) == exp(0))"
      ]
    },
    {
      "cell_type": "markdown",
      "metadata": {
        "id": "19kYh1Ac0frc"
      },
      "source": [
        "### Built-in function\n",
        "\n",
        "Note: the pow() function:\n",
        "\n",
        "`pow(x, y)` → finding the value of xy (mind the domains)\n",
        "\n",
        "This is a built-in function, and doesn't have to be imported."
      ]
    },
    {
      "cell_type": "markdown",
      "metadata": {
        "id": "DfumaaHa0frc"
      },
      "source": [
        "The last group consists of some general-purpose functions like:\n",
        "\n",
        "- ceil(x) → the ceiling of x (the smallest integer greater than or equal to x)\n",
        "- floor(x) → the floor of x (the largest integer less than or equal to x)\n",
        "- trunc(x) → the value of x truncated to an integer (__be careful__ - it's __not an equivalent__ either of ceil or floor)\n",
        "- factorial(x) → returns x! (x has to be an integral and not a negative)\n",
        "- hypot(x, y) → returns the length of the hypotenuse of a right-angle triangle with the leg lengths equal to x and y (the same as sqrt(pow(x, 2) + pow(y, 2)) but more precise)"
      ]
    },
    {
      "cell_type": "markdown",
      "metadata": {
        "id": "k-FXKLSO0frc"
      },
      "source": [
        "It demonstrates the fundamental differences between `ceil()`, `floor()` and `trunc()`."
      ]
    },
    {
      "cell_type": "code",
      "execution_count": null,
      "metadata": {
        "id": "hMllzNbk0frc"
      },
      "outputs": [],
      "source": [
        "from math import ceil, floor, trunc\n",
        "\n",
        "x = 1.4\n",
        "y = 2.6\n",
        "\n",
        "print(floor(x), floor(y))\n",
        "print(floor(-x), floor(-y))\n",
        "print(ceil(x), ceil(y))\n",
        "print(ceil(-x), ceil(-y))\n",
        "print(trunc(x), trunc(y))\n",
        "print(trunc(-x), trunc(-y))"
      ]
    },
    {
      "cell_type": "markdown",
      "metadata": {
        "id": "aQy-OA_a0frj"
      },
      "source": [
        "### `random` Module\n",
        "\n",
        "![random.PNG](attachment:random.PNG)"
      ]
    },
    {
      "cell_type": "markdown",
      "metadata": {
        "id": "2oed5Du70frk"
      },
      "source": [
        "It delivers some mechanisms allowing you to operate with __pseudorandom numbers__.\n",
        "\n",
        "__pseudo -__ :  the numbers generated by the modules may look random in the sense that you cannot predict their subsequent values, but don't forget that they all are calculated using very refined algorithms."
      ]
    },
    {
      "cell_type": "code",
      "execution_count": null,
      "metadata": {
        "id": "MYOzPkpZ0frk"
      },
      "outputs": [],
      "source": [
        "from random import random\n",
        "for i in range(5):\n",
        "    print(random())"
      ]
    },
    {
      "cell_type": "code",
      "execution_count": null,
      "metadata": {
        "id": "Y8QKvgAv0frk"
      },
      "outputs": [],
      "source": [
        "# import random\n",
        "# dir(random)"
      ]
    },
    {
      "cell_type": "markdown",
      "metadata": {
        "id": "eNfS_7Jr0frk"
      },
      "source": [
        "If you want integer random values, one of the following functions would fit better:\n",
        "\n",
        "- randrange(end)\n",
        "- randrange(beg, end)\n",
        "- randrange(beg, end, step)\n",
        "- randint(left, right)"
      ]
    },
    {
      "cell_type": "code",
      "execution_count": null,
      "metadata": {
        "id": "8X52iPDk0frk"
      },
      "outputs": [],
      "source": [
        "# ini kode apa\n",
        "from random import randrange, randint\n",
        "\n",
        "print(randrange(200), end='\\n')\n",
        "print(randrange(50, 100), end='\\n')\n",
        "print(randrange(50, 200, 10), end='\\n')\n",
        "print(randint(5, 10))"
      ]
    },
    {
      "cell_type": "markdown",
      "metadata": {
        "id": "PgI2HpBn0frl"
      },
      "source": [
        "This is what we got in one of the launches:\n",
        "\n",
        "__`9,4,5,4,5,8,9,4,8,4,`__"
      ]
    },
    {
      "cell_type": "markdown",
      "metadata": {
        "id": "8S-i58nv0frl"
      },
      "source": [
        "It's a function named in a very suggestive way - choice:\n",
        "\n",
        "choice(sequence)\n",
        "sample(sequence, elements_to_choose=1)"
      ]
    },
    {
      "cell_type": "code",
      "execution_count": null,
      "metadata": {
        "id": "__6ZEfoU0frl"
      },
      "outputs": [],
      "source": [
        "from random import choice, sample\n",
        "\n",
        "lst = [1, 2, 3, 4, 5, 6, 7, 8, 9, 10]\n",
        "siswa = ['Ani','Budi','Cakra','Desi']\n",
        "print(choice(siswa))\n",
        "print(sample(lst, 1))\n",
        "print(sample(lst, 10))"
      ]
    },
    {
      "cell_type": "code",
      "execution_count": null,
      "metadata": {
        "id": "fR5o2nVR0frl"
      },
      "outputs": [],
      "source": [
        "from random import randint\n",
        "\n",
        "for i in range(10):\n",
        "    print(randint(1, 10), end=',')"
      ]
    },
    {
      "cell_type": "markdown",
      "metadata": {
        "id": "U1LFw3DE0frl"
      },
      "source": [
        "### How to know where you are?"
      ]
    },
    {
      "cell_type": "code",
      "execution_count": null,
      "metadata": {
        "id": "EXeznfKl0frl"
      },
      "outputs": [],
      "source": [
        "from platform import platform\n",
        "\n",
        "print(platform())\n",
        "print(platform(1))\n",
        "print(platform(0, 1))"
      ]
    },
    {
      "cell_type": "code",
      "execution_count": null,
      "metadata": {
        "id": "DNVeaKE40frm"
      },
      "outputs": [],
      "source": [
        "# import platform\n",
        "# dir(platform)"
      ]
    },
    {
      "cell_type": "code",
      "execution_count": null,
      "metadata": {
        "id": "GvwoDAmB0frm"
      },
      "outputs": [],
      "source": [
        "from platform import machine\n",
        "\n",
        "print(machine())"
      ]
    },
    {
      "cell_type": "code",
      "execution_count": null,
      "metadata": {
        "id": "YfBksmqk0frm"
      },
      "outputs": [],
      "source": [
        "from platform import processor\n",
        "\n",
        "print(processor())"
      ]
    },
    {
      "cell_type": "markdown",
      "metadata": {
        "id": "Zh-j31PL0frm"
      },
      "source": [
        "You can read about all standard Python modules here: https://docs.python.org/3/py-modindex.html."
      ]
    },
    {
      "cell_type": "markdown",
      "metadata": {
        "id": "VOX9THJh0frm"
      },
      "source": [
        "# Package"
      ]
    },
    {
      "cell_type": "markdown",
      "metadata": {
        "id": "taahJJo50frm"
      },
      "source": [
        "![pacakge.PNG](attachment:pacakge.PNG)"
      ]
    },
    {
      "cell_type": "markdown",
      "metadata": {
        "id": "MpiXtX_g0frm"
      },
      "source": [
        "- __a module is a kind of container filled with functions__ - you can pack as many functions as you want into one module and distribute it across the world;\n",
        "- of course, it's generally __a good idea not to mix functions with different application areas__ within one module\n",
        "- making many modules may cause a little mess - sooner or later you'll want to __group your modules__ exactly in the same way as you've previously grouped functions\n",
        "- __package__; in the world of modules, a package plays a similar role to a folder/directory in the world of files."
      ]
    },
    {
      "cell_type": "markdown",
      "metadata": {
        "id": "yW9WfqXG0frn"
      },
      "source": [
        "### Membuat modul\n",
        "\n",
        "Pertama,kita membuat 2 file dengan nama aritmatika.py dan main.py\n",
        "\n",
        "Langkah:\n",
        "\n",
        "artimatika.py:\n",
        "\n",
        "- Buka python IDLE\n",
        "- Klik __file__ dan pilih __new file__\n",
        "- Simpan file dengan nama __aritmatika.py__\n",
        "\n",
        "main.py:\n",
        "\n",
        "- Buka python IDLE\n",
        "- Klik __file__ dan pilih __new file__\n",
        "- Simpan file dengan __main.py__\n",
        "\n",
        "Note: __Kedua file disimpan dalam satu folder yang sama.__\n"
      ]
    },
    {
      "cell_type": "code",
      "execution_count": null,
      "metadata": {
        "id": "vOETijyO0frn"
      },
      "outputs": [],
      "source": [
        "# aritmatika.py\n",
        "\n",
        "def tambah(a,b):\n",
        "    return a+b\n",
        "\n",
        "def kurang(a,b):\n",
        "    return a-b\n",
        "\n",
        "def kali(a,b):\n",
        "    return a*b\n",
        "\n",
        "def bagi(a,b):\n",
        "    return a/b"
      ]
    },
    {
      "cell_type": "code",
      "execution_count": null,
      "metadata": {
        "id": "Rp03hQwf0frn"
      },
      "outputs": [],
      "source": [
        "import aritmatika"
      ]
    },
    {
      "cell_type": "code",
      "execution_count": null,
      "metadata": {
        "id": "-rZrS5AF0frn"
      },
      "outputs": [],
      "source": [
        "a=aritmatika.tambah(3,4)\n",
        "b=aritmatika.kurang(3,4)\n",
        "c=aritmatika.kali(3,4)\n",
        "d=aritmatika.bagi(3,4)\n",
        "\n",
        "print(a)\n",
        "print(b)\n",
        "print(c)\n",
        "print(d)"
      ]
    },
    {
      "cell_type": "code",
      "execution_count": null,
      "metadata": {
        "id": "b-xvzYFZ0frn"
      },
      "outputs": [],
      "source": [
        "from aritmatika import tambah\n",
        "\n",
        "a=tambah(10,3)\n",
        "print(a)"
      ]
    },
    {
      "cell_type": "markdown",
      "metadata": {
        "id": "oe-6FHzB0frn"
      },
      "source": [
        "# Package"
      ]
    },
    {
      "cell_type": "markdown",
      "metadata": {
        "id": "ru7b928M0frn"
      },
      "source": [
        "1. Buatlah folder dengan nama LATIHAN_PYTHON\n",
        "2. Dalam folder LATIHAN_PYTHON, buatlah folder dengan nama latihan_package, file main.py, dan file `__init__.py`\n",
        "3. Dalam latihan_package, buatlah 2 file, dengan nama alpha.py dan beta.py"
      ]
    },
    {
      "cell_type": "code",
      "execution_count": null,
      "metadata": {
        "id": "Hv-9k13o0frn"
      },
      "outputs": [],
      "source": [
        "alpha.py\n",
        "def alphaSatu():\n",
        "\tprint(\"alpha   Satu\")\n",
        "\n",
        "def alphaDua():\n",
        "\tprint(\"alphaDua\")\n",
        "\n",
        "#beta.py\n",
        "# def betaSatu():\n",
        "# \tprint(\"betaSatu\")\n",
        "\n",
        "# def betaDua():\n",
        "# \tprint(\"betaDua\")\n",
        "\n",
        "#main.py\n",
        "\n",
        "# import latihan_package.alpha as a\n",
        "# import latihan_package.beta as b\n",
        "\n",
        "# a.alphaSatu()\n",
        "\n"
      ]
    },
    {
      "cell_type": "code",
      "execution_count": null,
      "metadata": {
        "id": "fWmcZ7eN0frn"
      },
      "outputs": [],
      "source": [
        "#cara mengakses package yang dibuat, copy dan paste code dalam file main.py\n",
        "\n",
        "import os\n",
        "\n",
        "os.chdir(r\"/Users/masaboe/Documents/NGAJAR/2021/DTS FGA/Python PCAP\")\n",
        "\n",
        "import latihan_package.alpha as a, latihan_package.beta as b\n",
        "\n",
        "a.alphaSatu()\n",
        "b.betaSatu()"
      ]
    },
    {
      "cell_type": "code",
      "execution_count": null,
      "metadata": {
        "id": "4Ao2aM_50fro"
      },
      "outputs": [],
      "source": [
        "os.chdir(r\"E:\\CTA\\DIGITAL TALENT\\digital-talent\\2019\")"
      ]
    },
    {
      "cell_type": "code",
      "execution_count": null,
      "metadata": {
        "id": "ybGdcz490fro"
      },
      "outputs": [],
      "source": [
        "import os\n",
        "os.getcwd()\n",
        "\n",
        "print(os.getcwd())"
      ]
    },
    {
      "cell_type": "markdown",
      "metadata": {
        "id": "ZpWQ974p0fro"
      },
      "source": [
        "#### Konsep package\n",
        "\n",
        "![pacakgetree.PNG](attachment:pacakgetree.PNG)\n",
        "\n",
        "`packages`, like modules, may require initialization.\n",
        "\n",
        "Python expects that there is a file with a very unique name inside the package's folder:`__init__.py.`\n",
        "\n",
        "The content of the file is executed when any of the package's modules is imported.\n",
        "\n",
        "If you don't want any special initializations, you can leave the __file empty__, but you mustn't omit it.\n",
        "\n"
      ]
    },
    {
      "cell_type": "code",
      "execution_count": null,
      "metadata": {
        "id": "KG8Ja1zO0fro"
      },
      "outputs": [],
      "source": [
        "os.chdir(r\"/Users/masaboe/Documents/NGAJAR/2021/DTS FGA/Python PCAP\")\n",
        "\n",
        "import latihan_package.alpha as a\n",
        "a.alphaSatu()"
      ]
    },
    {
      "cell_type": "code",
      "execution_count": null,
      "metadata": {
        "id": "ZFR3qNmx0fro"
      },
      "outputs": [],
      "source": [
        "import alpha\n",
        "\n",
        "alpha.alphaSatu()"
      ]
    },
    {
      "cell_type": "markdown",
      "metadata": {
        "id": "PBMYdIKm0fro"
      },
      "source": [
        "# PyPI (Python Package Index), PIP installs packages\n",
        "\n",
        "- (https://pypi.org/) PyPI has lots of software in stock and it's available 24/7. It's fully entitled to identify itself as Ye International Python Software Emporium.\n",
        "- Some Python installations come with pip, some don't. What’s more, it doesn’t only depend on the OS you use, although this is a very important factor.\n",
        "\n",
        "#### List of main PIP activities\n",
        "- `pip help operation` - shows brief pip's description;\n",
        "- `pip list` - shows list of currently installed packages;\n",
        "- `pip show package_name` - shows package_name info including package's dependencies;\n",
        "- `pip search anystring` - searches through PyPI directories in order to find packages which name contains anystring;\n",
        "- `pip install name` - installs name system-wide (expect problems when you don't have administrative rights);\n",
        "- `pip install` --user name - install name for you only; no other your platform's user will be able to use it;\n",
        "- `pip install -U name` - updates previously installed package;\n",
        "- `pip uninstall name` - uninstalls previously installed package;"
      ]
    },
    {
      "cell_type": "code",
      "execution_count": null,
      "metadata": {
        "id": "DLCLvAuu0fro"
      },
      "outputs": [],
      "source": [
        "pip --version"
      ]
    },
    {
      "cell_type": "code",
      "execution_count": null,
      "metadata": {
        "id": "U9qNoJCe0fro"
      },
      "outputs": [],
      "source": [
        "pip help"
      ]
    }
  ],
  "metadata": {
    "kernelspec": {
      "display_name": "Python 3 (ipykernel)",
      "language": "python",
      "name": "python3"
    },
    "language_info": {
      "codemirror_mode": {
        "name": "ipython",
        "version": 3
      },
      "file_extension": ".py",
      "mimetype": "text/x-python",
      "name": "python",
      "nbconvert_exporter": "python",
      "pygments_lexer": "ipython3",
      "version": "3.9.5"
    },
    "colab": {
      "provenance": [],
      "include_colab_link": true
    }
  },
  "nbformat": 4,
  "nbformat_minor": 0
}